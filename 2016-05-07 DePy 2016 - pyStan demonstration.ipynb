{
 "cells": [
  {
   "cell_type": "markdown",
   "metadata": {},
   "source": [
    "# Bayesian Inference with Stan\n",
    "\n",
    "This notebook contains examples of Bayesian inference with Stan, using the pyStan interface.\n",
    "\n",
    "Resources:\n",
    "http://mc-stan.org/ : Stan's main website, with lots of documentation and examples\n",
    "http://pystan.readthedocs.io/ : pyStan documentation\n",
    "\n",
    "8-Schools example from Bayesian Data Analysis, by Andrew Gelman et al., http://andrewgelman.com/2014/01/21/everything-need-know-bayesian-statistics-learned-eight-schools/, and http://astrostatistics.psu.edu/su14/lectures/Daniel-Lee-Stan-2.pdf\n",
    "\n",
    "Stephen Hoover<br>\n",
    "Civis Analytics<br>\n",
    "@StephenActual<br>\n",
    "7 May 2016"
   ]
  },
  {
   "cell_type": "code",
   "execution_count": 1,
   "metadata": {
    "collapsed": true
   },
   "outputs": [],
   "source": [
    "import pickle\n",
    "import numpy as np\n",
    "import pandas as pd\n",
    "\n",
    "import pystan\n",
    "\n",
    "%matplotlib inline"
   ]
  },
  {
   "cell_type": "markdown",
   "metadata": {},
   "source": [
    "# Linear Regression\n",
    "\n",
    "Let's start simple, with linear regression. \n",
    "\n",
    "$$ y = \\beta x + \\epsilon$$\n",
    "Here, $y$ are the observed outcomes, $x$ are the features we know about each example, $\\beta$ are our coefficents, and $\\epsilon$ is the noise.\n",
    "\n",
    "We can fit this with ordinary least squares. To do that, we want to pick $\\beta$ such that we minimize\n",
    "$$ \\sum_{i=1}^n (y_i - \\beta x_i)^2 $$\n",
    "We can write down a this linear regression model in Stan code as"
   ]
  },
  {
   "cell_type": "code",
   "execution_count": 2,
   "metadata": {
    "collapsed": true
   },
   "outputs": [],
   "source": [
    "stan_model = \"\"\"\n",
    "data {\n",
    "    // Define input data in this block\n",
    "    int n;  // Number of samples\n",
    "    int m;  // Number of features\n",
    "    matrix[n, m] features;\n",
    "    vector[n] y;  // outcome\n",
    "}\n",
    "transformed data {\n",
    "    // Modify / transform input data.\n",
    "    // This block runs once.\n",
    "}\n",
    "parameters {\n",
    "    // These are random parameters which we\n",
    "    // want to estimate\n",
    "    vector[m] beta;  // Coefficients\n",
    "    real<lower=0> epsilon;  // Uncertainty / unexplained variance\n",
    "}\n",
    "transformed parameters {\n",
    "    // Create quantities derived from the parameters.\n",
    "    // Runs on every evaluation of log-prob\n",
    "}\n",
    "model {\n",
    "    // Define your model here!\n",
    "    y ~ normal(features * beta, epsilon);\n",
    "    \n",
    "    // Equivalent to:\n",
    "    // increment_log_prob(normal_log(y, features * beta, epsilon));\n",
    "}\n",
    "generated quantities {\n",
    "    // Can use to simulate / predict using parameters\n",
    "    // Runs once per MCMC step after warmup\n",
    "}\n",
    "\"\"\""
   ]
  },
  {
   "cell_type": "code",
   "execution_count": 3,
   "metadata": {
    "collapsed": true
   },
   "outputs": [],
   "source": [
    "# Generate some data for us to fit\n",
    "rng = np.random.RandomState(42)\n",
    "n_samples = 10\n",
    "n_feat = 4\n",
    "\n",
    "feat = rng.normal(0, 1, size=(n_samples, n_feat))\n",
    "tgt = feat @ np.array([-1, 0.4, 0, 0]) + rng.normal(scale=0.2, size=n_samples)"
   ]
  },
  {
   "cell_type": "code",
   "execution_count": 4,
   "metadata": {
    "collapsed": false
   },
   "outputs": [],
   "source": [
    "lin_reg = pystan.model.StanModel(model_code=stan_model,\n",
    "                                 model_name='linear_regression')"
   ]
  },
  {
   "cell_type": "code",
   "execution_count": 5,
   "metadata": {
    "collapsed": false
   },
   "outputs": [],
   "source": [
    "lin_fit = lin_reg.sampling(data={'n': n_samples, \n",
    "                                 'm': n_feat, \n",
    "                                 'features': feat, \n",
    "                                 'y': tgt}, \n",
    "                           iter=1000, chains=4, \n",
    "                           warmup=500, n_jobs=-1,\n",
    "                           seed=42)"
   ]
  },
  {
   "cell_type": "code",
   "execution_count": 6,
   "metadata": {
    "collapsed": false
   },
   "outputs": [
    {
     "data": {
      "text/plain": [
       "Inference for Stan model: linear_regression_087f0c0e4eef3ff0be6e63bbe468afe1.\n",
       "4 chains, each with iter=1000; warmup=500; thin=1; \n",
       "post-warmup draws per chain=500, total post-warmup draws=2000.\n",
       "\n",
       "          mean se_mean     sd   2.5%    25%    50%    75%  97.5%  n_eff   Rhat\n",
       "beta[0]  -0.99  5.4e-3   0.11   -1.2  -1.05  -0.99  -0.92  -0.75    449    1.0\n",
       "beta[1]   0.43  4.1e-3   0.08   0.27   0.38   0.43   0.47   0.59    400   1.01\n",
       "beta[2]   0.07  4.0e-3   0.08  -0.09   0.03   0.07   0.11   0.22    355    1.0\n",
       "beta[3]   0.08  3.0e-3   0.06  -0.07   0.04   0.08   0.11    0.2    455    1.0\n",
       "epsilon    0.2  5.3e-3   0.08   0.11   0.14   0.18   0.23   0.42    245   1.02\n",
       "lp__     10.66    0.15    2.3   4.63   9.61  11.16  12.35  13.59    241   1.02\n",
       "\n",
       "Samples were drawn using NUTS(diag_e) at Sat May  7 13:47:55 2016.\n",
       "For each parameter, n_eff is a crude measure of effective sample size,\n",
       "and Rhat is the potential scale reduction factor on split chains (at \n",
       "convergence, Rhat=1)."
      ]
     },
     "execution_count": 6,
     "metadata": {},
     "output_type": "execute_result"
    }
   ],
   "source": [
    "lin_fit"
   ]
  },
  {
   "cell_type": "code",
   "execution_count": 7,
   "metadata": {
    "collapsed": true
   },
   "outputs": [],
   "source": [
    "chains = lin_fit.extract()"
   ]
  },
  {
   "cell_type": "code",
   "execution_count": 8,
   "metadata": {
    "collapsed": false
   },
   "outputs": [
    {
     "data": {
      "text/plain": [
       "OrderedDict([('beta',\n",
       "              array([[-1.01763661,  0.37649818,  0.10570001,  0.05404354],\n",
       "                     [-0.93332508,  0.50234876,  0.17387378, -0.09616874],\n",
       "                     [-0.89627442,  0.47404553,  0.01599869,  0.1143778 ],\n",
       "                     ..., \n",
       "                     [-0.86882841,  0.36307688,  0.02157189,  0.06358885],\n",
       "                     [-0.96600794,  0.51663891,  0.05793773,  0.08761251],\n",
       "                     [-0.99316095,  0.41921682,  0.01724642,  0.0535017 ]])),\n",
       "             ('epsilon',\n",
       "              array([ 0.08935834,  0.33816026,  0.18961911, ...,  0.20131365,\n",
       "                      0.17700009,  0.11271441])),\n",
       "             ('lp__',\n",
       "              array([ 11.35349354,   6.57292638,  12.33864629, ...,  10.52931093,\n",
       "                      12.25936065,  12.17528791]))])"
      ]
     },
     "execution_count": 8,
     "metadata": {},
     "output_type": "execute_result"
    }
   ],
   "source": [
    "chains"
   ]
  },
  {
   "cell_type": "code",
   "execution_count": 9,
   "metadata": {
    "collapsed": false
   },
   "outputs": [
    {
     "data": {
      "text/plain": [
       "(2000, 4)"
      ]
     },
     "execution_count": 9,
     "metadata": {},
     "output_type": "execute_result"
    }
   ],
   "source": [
    "chains['beta'].shape"
   ]
  },
  {
   "cell_type": "code",
   "execution_count": 10,
   "metadata": {
    "collapsed": false,
    "scrolled": true
   },
   "outputs": [
    {
     "data": {
      "text/plain": [
       "[<matplotlib.lines.Line2D at 0x111fc65f8>]"
      ]
     },
     "execution_count": 10,
     "metadata": {},
     "output_type": "execute_result"
    },
    {
     "data": {
      "image/png": "[encoded data removed]",
      "text/plain": [
       "<matplotlib.figure.Figure at 0x10a826f60>"
      ]
     },
     "metadata": {},
     "output_type": "display_data"
    }
   ],
   "source": [
    "plt.plot(chains['beta'][:,0])"
   ]
  },
  {
   "cell_type": "code",
   "execution_count": 11,
   "metadata": {
    "collapsed": false
   },
   "outputs": [
    {
     "data": {
      "image/png": "[encoded data removed]",
      "text/plain": [
       "<matplotlib.figure.Figure at 0x1121959e8>"
      ]
     },
     "metadata": {},
     "output_type": "display_data"
    }
   ],
   "source": [
    "histout = plt.hist(chains['beta'][:,0], bins=50)"
   ]
  },
  {
   "cell_type": "code",
   "execution_count": 12,
   "metadata": {
    "collapsed": false,
    "scrolled": true
   },
   "outputs": [
    {
     "data": {
      "image/png": "[encoded data removed]",
      "text/plain": [
       "<matplotlib.figure.Figure at 0x112088828>"
      ]
     },
     "metadata": {},
     "output_type": "display_data"
    }
   ],
   "source": [
    "p = lin_fit.plot()"
   ]
  },
  {
   "cell_type": "markdown",
   "metadata": {},
   "source": [
    "## Interlude: Caching models\n",
    "\n",
    "It can take a long(ish) time to compile these models, so you often want to save them for later. Good news: the models can be pickled!"
   ]
  },
  {
   "cell_type": "code",
   "execution_count": 13,
   "metadata": {
    "collapsed": false
   },
   "outputs": [],
   "source": [
    "with open(\"/Users/shoover/linear_regression_stan.pkl\", 'wb') as fout:\n",
    "    pickle.dump(lin_reg, fout)\n",
    "    \n",
    "# If you want to get fancy, you can write a \n",
    "# function to do this automatically.\n",
    "# This version adapted from the pyStan docs.\n",
    "import os\n",
    "import pystan\n",
    "import pickle\n",
    "from hashlib import md5\n",
    "\n",
    "def stan_cache(model_code, model_name=None, \n",
    "               cache_dir='/Users/shoover/stan_cache'):\n",
    "    \"\"\"Creates or retrieves a StanModel\"\"\"\n",
    "    code_hash = md5((model_code + pystan.__version__)\n",
    "                    .encode('ascii')).hexdigest()\n",
    "    if model_name is None:\n",
    "        cache_fn = 'cached-model-{}.pkl'.format(code_hash)\n",
    "    else:\n",
    "        cache_fn = 'cached-{}-{}.pkl'.format(model_name, code_hash)\n",
    "    cache_fn = os.path.join(cache_dir, cache_fn)\n",
    "\n",
    "    try:\n",
    "        sm = pickle.load(open(cache_fn, 'rb'))\n",
    "    except:\n",
    "        sm = pystan.StanModel(model_code=model_code)\n",
    "        with open(cache_fn, 'wb') as f:\n",
    "            pickle.dump(sm, f)\n",
    "    else:\n",
    "        print(\"Using cached StanModel\")\n",
    "    return sm"
   ]
  },
  {
   "cell_type": "markdown",
   "metadata": {},
   "source": [
    "# LASSO Regression\n",
    "\n",
    "We can also get fancier. In LASSO regression, we regularize the model by adding an additional penalty term to our ordinary least squares model:\n",
    "$$ \\sum_{i=1}^n (y_i - \\beta x_i)^2  + \\lambda \\sum_{j=1}^m |\\beta_j|$$\n",
    "\n",
    "You write this in Stan by realizing that it's a prior on your coefficents:"
   ]
  },
  {
   "cell_type": "code",
   "execution_count": 14,
   "metadata": {
    "collapsed": true
   },
   "outputs": [],
   "source": [
    "stan_model_lasso = \"\"\"\n",
    "data {\n",
    "    int n;  // Number of samples\n",
    "    int m;  // Number of features\n",
    "    matrix[n, m] features;\n",
    "    vector[n] y;  // Outcome\n",
    "    real<lower=0> lambda;  // Regularization strength\n",
    "}\n",
    "parameters {\n",
    "    vector[m] beta;  // Coefficients\n",
    "    real<lower=0> epsilon;  // Uncertainty / unexplained variance\n",
    "}\n",
    "model {\n",
    "    beta ~ double_exponential(0, 1 / lambda);  // Laplace prior\n",
    "    y ~ normal(features * beta, epsilon);\n",
    "}\n",
    "\"\"\""
   ]
  },
  {
   "cell_type": "code",
   "execution_count": 15,
   "metadata": {
    "collapsed": false
   },
   "outputs": [
    {
     "name": "stdout",
     "output_type": "stream",
     "text": [
      "Using cached StanModel\n"
     ]
    }
   ],
   "source": [
    "lasso_reg = stan_cache(model_code=stan_model_lasso,\n",
    "                       model_name='lasso_regression')"
   ]
  },
  {
   "cell_type": "code",
   "execution_count": 16,
   "metadata": {
    "collapsed": true
   },
   "outputs": [],
   "source": [
    "lasso_fit = lasso_reg.sampling(\n",
    "    data={'n': n_samples, 'm': n_feat, \n",
    "          'features': feat, 'y': tgt, 'lambda': 10},\n",
    "    iter=1000, seed=42)"
   ]
  },
  {
   "cell_type": "code",
   "execution_count": 17,
   "metadata": {
    "collapsed": false
   },
   "outputs": [
    {
     "data": {
      "text/plain": [
       "Inference for Stan model: anon_model_453ed1561ef59806d76edb8b044246f9.\n",
       "4 chains, each with iter=1000; warmup=500; thin=1; \n",
       "post-warmup draws per chain=500, total post-warmup draws=2000.\n",
       "\n",
       "          mean se_mean     sd   2.5%    25%    50%    75%  97.5%  n_eff   Rhat\n",
       "beta[0]  -0.75    0.03    0.3  -1.08  -0.95  -0.86  -0.66 2.0e-3    128   1.03\n",
       "beta[1]   0.36    0.01   0.14-8.1e-3   0.31   0.39   0.45   0.57    153   1.02\n",
       "beta[2]   0.04  3.6e-3   0.07  -0.11-2.3e-3   0.04   0.08   0.18    388   1.01\n",
       "beta[3]   0.06  3.6e-3   0.07  -0.08   0.02   0.06    0.1   0.19    362    1.0\n",
       "epsilon   0.33    0.03   0.27   0.11   0.17   0.22   0.37   1.11    117   1.04\n",
       "lp__     -5.02    0.19   2.32 -10.12  -6.49  -4.64  -3.19  -1.73    142   1.03\n",
       "\n",
       "Samples were drawn using NUTS(diag_e) at Sat May  7 13:52:40 2016.\n",
       "For each parameter, n_eff is a crude measure of effective sample size,\n",
       "and Rhat is the potential scale reduction factor on split chains (at \n",
       "convergence, Rhat=1)."
      ]
     },
     "execution_count": 17,
     "metadata": {},
     "output_type": "execute_result"
    }
   ],
   "source": [
    "lasso_fit"
   ]
  },
  {
   "cell_type": "markdown",
   "metadata": {},
   "source": [
    "# 8 Schools: A Multi-level model\n",
    "\n",
    "Let's look at the \"8 schools\" problem. This example is originally from Rubin 1981, and can be found in Bayesian Data Analysis (Gelman et al.). These are data on the effectiveness of a class designed to prepare students for the SAT. Each row represents all of the students in one school. In each school, Rubin measured the average change in SAT scores, as well as calculating a measurement uncertainty."
   ]
  },
  {
   "cell_type": "code",
   "execution_count": 18,
   "metadata": {
    "collapsed": false
   },
   "outputs": [
    {
     "name": "stdout",
     "output_type": "stream",
     "text": [
      "           Treatment Effect  Uncertainty\n",
      "School ID                               \n",
      "0                        28           15\n",
      "1                         8           10\n",
      "2                        -3           16\n",
      "3                         7           11\n",
      "4                        -1            9\n",
      "5                         1           11\n",
      "6                        18           10\n",
      "7                        12           18\n"
     ]
    }
   ],
   "source": [
    "schools_dat = {'J': 8,\n",
    "               'y': [28,  8, -3,  7, -1,  1, 18, 12],\n",
    "               'sigma': [15, 10, 16, 11,  9, 11, 10, 18]}\n",
    "schools_df = (pd.DataFrame(schools_dat, columns=['y', 'sigma'])\n",
    "              .rename(columns={'y': 'Treatment Effect', \n",
    "                               'sigma': 'Uncertainty'}))\n",
    "schools_df.index.name = 'School ID'\n",
    "print(schools_df)"
   ]
  },
  {
   "cell_type": "markdown",
   "metadata": {},
   "source": [
    "### School-by school effects\n",
    "\n",
    "What can we say about the effectiveness of the training? You might say that the measured effect is our best estimate of how well the class in each school does -- after all, we have a measurement and an uncertainty."
   ]
  },
  {
   "cell_type": "code",
   "execution_count": 19,
   "metadata": {
    "collapsed": true
   },
   "outputs": [],
   "source": [
    "# Assume each school is completely independent\n",
    "no_pooling = \"\"\"\n",
    "data {\n",
    "    int<lower=0> J; // # schools\n",
    "    real y[J]; // estimated treatment\n",
    "    real<lower=0> sigma[J]; // std err of effect\n",
    "}\n",
    "parameters {\n",
    "    real theta[J]; // school effect\n",
    "}\n",
    "model {\n",
    "    y ~ normal(theta, sigma);\n",
    "}\n",
    "\"\"\""
   ]
  },
  {
   "cell_type": "code",
   "execution_count": 20,
   "metadata": {
    "collapsed": false
   },
   "outputs": [
    {
     "name": "stdout",
     "output_type": "stream",
     "text": [
      "Using cached StanModel\n"
     ]
    }
   ],
   "source": [
    "nopool_model = stan_cache(model_code=no_pooling, \n",
    "                          model_name='no_pooling')"
   ]
  },
  {
   "cell_type": "code",
   "execution_count": 21,
   "metadata": {
    "collapsed": true
   },
   "outputs": [],
   "source": [
    "nopool_fit = nopool_model.sampling(data=schools_dat)"
   ]
  },
  {
   "cell_type": "code",
   "execution_count": 22,
   "metadata": {
    "collapsed": false
   },
   "outputs": [
    {
     "data": {
      "text/plain": [
       "Inference for Stan model: anon_model_fac03134a8935fb2cffe1e3eb2e31136.\n",
       "4 chains, each with iter=2000; warmup=1000; thin=1; \n",
       "post-warmup draws per chain=1000, total post-warmup draws=4000.\n",
       "\n",
       "           mean se_mean     sd   2.5%    25%    50%    75%  97.5%  n_eff   Rhat\n",
       "theta[0]  28.06    0.42  15.17  -2.08  17.77  27.83  38.14  58.85   1321    1.0\n",
       "theta[1]   8.02    0.27   9.88 -10.72   1.39   7.77  14.75   27.7   1334    1.0\n",
       "theta[2]  -3.23    0.44  16.23 -36.22 -14.03  -3.23   7.53  28.35   1334    1.0\n",
       "theta[3]   7.17    0.31  11.07 -14.71  -0.18   6.99  14.57   28.8   1287    1.0\n",
       "theta[4]  -1.14    0.26   9.28 -19.87  -7.51  -1.08    5.2  16.92   1299    1.0\n",
       "theta[5]   1.05    0.31  11.07  -20.4  -6.61   1.23   8.71  22.59   1290    1.0\n",
       "theta[6]  18.09    0.28   9.96  -1.31  11.23  18.23   24.8  37.82   1305    1.0\n",
       "theta[7]  12.46     0.5   18.3 -22.54   0.26  11.95  24.79   49.2   1319    1.0\n",
       "lp__      -4.07    0.07   2.04  -9.17  -5.16  -3.75   -2.6  -1.14    958    1.0\n",
       "\n",
       "Samples were drawn using NUTS(diag_e) at Sat May  7 13:54:03 2016.\n",
       "For each parameter, n_eff is a crude measure of effective sample size,\n",
       "and Rhat is the potential scale reduction factor on split chains (at \n",
       "convergence, Rhat=1)."
      ]
     },
     "execution_count": 22,
     "metadata": {},
     "output_type": "execute_result"
    }
   ],
   "source": [
    "nopool_fit"
   ]
  },
  {
   "cell_type": "markdown",
   "metadata": {},
   "source": [
    "### Pooling\n",
    "\n",
    "But that doesn't seem quite right. Each school was using the same training class, so maybe we should say that there's just one \"effectiveness of training\" parameter, and the result of training in each school is a noisy measurement of this one number."
   ]
  },
  {
   "cell_type": "code",
   "execution_count": 23,
   "metadata": {
    "collapsed": true
   },
   "outputs": [],
   "source": [
    "pooling = \"\"\"\n",
    "data {\n",
    "    int<lower=0> J; // # schools\n",
    "    real y[J]; // estimated treatment\n",
    "    real<lower=0> sigma[J]; // std err of effect\n",
    "}\n",
    "parameters {\n",
    "    real theta; // pooled school effect\n",
    "}\n",
    "model {\n",
    "    y ~ normal(theta, sigma);\n",
    "}\n",
    "\"\"\""
   ]
  },
  {
   "cell_type": "code",
   "execution_count": 24,
   "metadata": {
    "collapsed": false
   },
   "outputs": [
    {
     "name": "stdout",
     "output_type": "stream",
     "text": [
      "Using cached StanModel\n"
     ]
    }
   ],
   "source": [
    "pool_model = stan_cache(model_code=pooling,\n",
    "                        model_name='pooling')"
   ]
  },
  {
   "cell_type": "code",
   "execution_count": 25,
   "metadata": {
    "collapsed": true
   },
   "outputs": [],
   "source": [
    "pool_fit = pool_model.sampling(data=schools_dat)"
   ]
  },
  {
   "cell_type": "code",
   "execution_count": 26,
   "metadata": {
    "collapsed": false
   },
   "outputs": [
    {
     "data": {
      "text/plain": [
       "Inference for Stan model: anon_model_78b569a62c9d87b3382fb8822816ffa7.\n",
       "4 chains, each with iter=2000; warmup=1000; thin=1; \n",
       "post-warmup draws per chain=1000, total post-warmup draws=4000.\n",
       "\n",
       "        mean se_mean     sd   2.5%    25%    50%    75%  97.5%  n_eff   Rhat\n",
       "theta    7.7    0.15   3.93   0.11   5.03   7.68  10.35  15.59    717    1.0\n",
       "lp__   -2.82    0.02   0.67  -4.69  -2.96  -2.57   -2.4  -2.35    863    1.0\n",
       "\n",
       "Samples were drawn using NUTS(diag_e) at Sat May  7 13:54:52 2016.\n",
       "For each parameter, n_eff is a crude measure of effective sample size,\n",
       "and Rhat is the potential scale reduction factor on split chains (at \n",
       "convergence, Rhat=1)."
      ]
     },
     "execution_count": 26,
     "metadata": {},
     "output_type": "execute_result"
    }
   ],
   "source": [
    "pool_fit"
   ]
  },
  {
   "cell_type": "markdown",
   "metadata": {},
   "source": [
    "### Partial Pooling\n",
    "\n",
    "Our data are consistent with all the training programs creating a treatment effect of 8 points. But that doesn't seem right either. There's different teachers in each school, teaching the classes in different ways. What if there's some average effect of the program, but different schools do a better or worse job of teaching it."
   ]
  },
  {
   "cell_type": "code",
   "execution_count": 27,
   "metadata": {
    "collapsed": true
   },
   "outputs": [],
   "source": [
    "part_pool = \"\"\"\n",
    "data {\n",
    "    int<lower=0> J; // # schools\n",
    "    real y[J]; // estimated treatment\n",
    "    real<lower=0> sigma[J]; // std err of effect\n",
    "    real<lower=0> tau;  // Width of school effect distribution\n",
    "}\n",
    "parameters {\n",
    "    real theta[J]; // school effect\n",
    "    real mu; // Average treatment effect\n",
    "}\n",
    "model {\n",
    "    theta ~ normal(mu, tau);\n",
    "    y ~ normal(theta, sigma);\n",
    "}\n",
    "\"\"\""
   ]
  },
  {
   "cell_type": "code",
   "execution_count": 28,
   "metadata": {
    "collapsed": false
   },
   "outputs": [
    {
     "name": "stdout",
     "output_type": "stream",
     "text": [
      "Using cached StanModel\n"
     ]
    }
   ],
   "source": [
    "part_model = stan_cache(model_code=part_pool, \n",
    "                        model_name='partial_pooling')"
   ]
  },
  {
   "cell_type": "code",
   "execution_count": 29,
   "metadata": {
    "collapsed": false
   },
   "outputs": [],
   "source": [
    "part_fit = part_model.sampling(data={**schools_dat, 'tau': 25})"
   ]
  },
  {
   "cell_type": "code",
   "execution_count": 30,
   "metadata": {
    "collapsed": false
   },
   "outputs": [
    {
     "data": {
      "text/plain": [
       "Inference for Stan model: anon_model_54826fd87a6d262851a3832021fc15d0.\n",
       "4 chains, each with iter=2000; warmup=1000; thin=1; \n",
       "post-warmup draws per chain=1000, total post-warmup draws=4000.\n",
       "\n",
       "           mean se_mean     sd   2.5%    25%    50%    75%  97.5%  n_eff   Rhat\n",
       "theta[0]  22.73    0.37  13.26  -3.56  13.74  22.74  31.59  49.47   1280    1.0\n",
       "theta[1]   8.03    0.26   9.35 -10.48   1.58   7.92  14.25  26.87   1296    1.0\n",
       "theta[2]   0.56    0.39  13.97 -26.49  -9.03   0.57  10.23  28.02   1272    1.0\n",
       "theta[3]   7.14    0.28  10.06 -12.26   0.39   6.88   13.8  27.28   1309    1.0\n",
       "theta[4]    0.2    0.25   8.74 -16.96   -5.9    0.3   6.01  17.26   1261    1.0\n",
       "theta[5]   2.05    0.29  10.46 -18.58   -4.9   1.99   9.13  22.04   1285    1.0\n",
       "theta[6]  16.75    0.27   9.62  -2.46  10.33  16.68  23.33  35.36   1265    1.0\n",
       "theta[7]  11.32    0.42  15.18 -18.53   0.85  11.03  21.75  40.65   1305    1.0\n",
       "mu         9.01    0.28   9.92 -10.63   2.25    9.1  15.81  28.13   1235    1.0\n",
       "lp__      -5.09    0.07   2.14 -10.14  -6.32   -4.8  -3.54  -1.83    969    1.0\n",
       "\n",
       "Samples were drawn using NUTS(diag_e) at Sat May  7 13:56:33 2016.\n",
       "For each parameter, n_eff is a crude measure of effective sample size,\n",
       "and Rhat is the potential scale reduction factor on split chains (at \n",
       "convergence, Rhat=1)."
      ]
     },
     "execution_count": 30,
     "metadata": {},
     "output_type": "execute_result"
    }
   ],
   "source": [
    "part_fit"
   ]
  },
  {
   "cell_type": "code",
   "execution_count": 31,
   "metadata": {
    "collapsed": false
   },
   "outputs": [
    {
     "name": "stdout",
     "output_type": "stream",
     "text": [
      "           Treatment Effect  Uncertainty\n",
      "School ID                               \n",
      "0                        28           15\n",
      "1                         8           10\n",
      "2                        -3           16\n",
      "3                         7           11\n",
      "4                        -1            9\n",
      "5                         1           11\n",
      "6                        18           10\n",
      "7                        12           18\n"
     ]
    }
   ],
   "source": [
    "# Compare to input data\n",
    "print(schools_df)"
   ]
  },
  {
   "cell_type": "markdown",
   "metadata": {},
   "source": [
    "### Hierarchical Model\n",
    "\n",
    "But we can still do one better. I picked that \"tau\" pretty arbitrarily. What if I don't know how much the schools can vary from the overall class treatment effect? We can estimate that from the data too!"
   ]
  },
  {
   "cell_type": "code",
   "execution_count": 33,
   "metadata": {
    "collapsed": true
   },
   "outputs": [],
   "source": [
    "schools_hier = \"\"\"\n",
    "data {\n",
    "    int<lower=0> J; // # schools\n",
    "    real y[J]; // estimated treatment\n",
    "    real<lower=0> sigma[J]; // std err of effect\n",
    "}\n",
    "parameters {\n",
    "    real theta[J]; // school effect\n",
    "    real mu; // mean for schools\n",
    "    real<lower=0> tau; // variance between schools\n",
    "}\n",
    "model {\n",
    "    theta ~ normal(mu, tau);\n",
    "    y ~ normal(theta, sigma);\n",
    "}\n",
    "\"\"\""
   ]
  },
  {
   "cell_type": "code",
   "execution_count": 34,
   "metadata": {
    "collapsed": false
   },
   "outputs": [
    {
     "name": "stdout",
     "output_type": "stream",
     "text": [
      "Using cached StanModel\n"
     ]
    }
   ],
   "source": [
    "hier_model = stan_cache(model_code=schools_hier, \n",
    "                        model_name='hierarchical_model')"
   ]
  },
  {
   "cell_type": "code",
   "execution_count": 35,
   "metadata": {
    "collapsed": false
   },
   "outputs": [],
   "source": [
    "hier_fit = hier_model.sampling(data=schools_dat)"
   ]
  },
  {
   "cell_type": "code",
   "execution_count": 36,
   "metadata": {
    "collapsed": false
   },
   "outputs": [
    {
     "data": {
      "text/plain": [
       "Inference for Stan model: anon_model_bb61d0eae3d6ef378c04e5c9a4c3d37a.\n",
       "4 chains, each with iter=2000; warmup=1000; thin=1; \n",
       "post-warmup draws per chain=1000, total post-warmup draws=4000.\n",
       "\n",
       "           mean se_mean     sd   2.5%    25%    50%    75%  97.5%  n_eff   Rhat\n",
       "theta[0]  12.24    0.36   8.45  -1.52   6.87  11.45   15.7  33.36    542    1.0\n",
       "theta[1]   8.54    0.25   6.38  -4.79   4.63   8.64  12.79   20.9    631    1.0\n",
       "theta[2]    6.7    0.37   7.96 -12.18    2.7   7.29  11.92  20.47    465    1.0\n",
       "theta[3]   8.03    0.28   6.36  -5.53   4.25   8.13  12.14  20.26    517    1.0\n",
       "theta[4]   5.36    0.41   6.56  -9.19   1.49   6.02   9.91  16.01    254   1.01\n",
       "theta[5]   6.71    0.33   6.75  -8.97   3.05   7.31  11.37  18.67    415    1.0\n",
       "theta[6]   11.5    0.29   6.72  -0.17   7.18  10.91  15.18  26.49    547    1.0\n",
       "theta[7]   9.08    0.29   8.08  -7.23   4.57   8.99   13.6  26.17    803    1.0\n",
       "mu          8.5    0.26   5.19  -2.17   5.42    8.5  11.96  18.71    384    1.0\n",
       "tau        7.14    0.46   6.08   0.86    2.8   5.46   9.54  23.11    173   1.01\n",
       "lp__     -17.67    0.69   5.85 -28.12 -21.85 -18.22 -13.65  -4.52     71   1.04\n",
       "\n",
       "Samples were drawn using NUTS(diag_e) at Sat May  7 13:59:19 2016.\n",
       "For each parameter, n_eff is a crude measure of effective sample size,\n",
       "and Rhat is the potential scale reduction factor on split chains (at \n",
       "convergence, Rhat=1)."
      ]
     },
     "execution_count": 36,
     "metadata": {},
     "output_type": "execute_result"
    }
   ],
   "source": [
    "hier_fit"
   ]
  },
  {
   "cell_type": "code",
   "execution_count": 37,
   "metadata": {
    "collapsed": false
   },
   "outputs": [
    {
     "data": {
      "text/html": [
       "<div>\n",
       "<table border=\"1\" class=\"dataframe\">\n",
       "  <thead>\n",
       "    <tr style=\"text-align: right;\">\n",
       "      <th></th>\n",
       "      <th>Treatment Effect</th>\n",
       "      <th>Uncertainty</th>\n",
       "    </tr>\n",
       "    <tr>\n",
       "      <th>School ID</th>\n",
       "      <th></th>\n",
       "      <th></th>\n",
       "    </tr>\n",
       "  </thead>\n",
       "  <tbody>\n",
       "    <tr>\n",
       "      <th>0</th>\n",
       "      <td>28</td>\n",
       "      <td>15</td>\n",
       "    </tr>\n",
       "    <tr>\n",
       "      <th>1</th>\n",
       "      <td>8</td>\n",
       "      <td>10</td>\n",
       "    </tr>\n",
       "    <tr>\n",
       "      <th>2</th>\n",
       "      <td>-3</td>\n",
       "      <td>16</td>\n",
       "    </tr>\n",
       "    <tr>\n",
       "      <th>3</th>\n",
       "      <td>7</td>\n",
       "      <td>11</td>\n",
       "    </tr>\n",
       "    <tr>\n",
       "      <th>4</th>\n",
       "      <td>-1</td>\n",
       "      <td>9</td>\n",
       "    </tr>\n",
       "    <tr>\n",
       "      <th>5</th>\n",
       "      <td>1</td>\n",
       "      <td>11</td>\n",
       "    </tr>\n",
       "    <tr>\n",
       "      <th>6</th>\n",
       "      <td>18</td>\n",
       "      <td>10</td>\n",
       "    </tr>\n",
       "    <tr>\n",
       "      <th>7</th>\n",
       "      <td>12</td>\n",
       "      <td>18</td>\n",
       "    </tr>\n",
       "  </tbody>\n",
       "</table>\n",
       "</div>"
      ],
      "text/plain": [
       "           Treatment Effect  Uncertainty\n",
       "School ID                               \n",
       "0                        28           15\n",
       "1                         8           10\n",
       "2                        -3           16\n",
       "3                         7           11\n",
       "4                        -1            9\n",
       "5                         1           11\n",
       "6                        18           10\n",
       "7                        12           18"
      ]
     },
     "execution_count": 37,
     "metadata": {},
     "output_type": "execute_result"
    }
   ],
   "source": [
    "schools_df"
   ]
  },
  {
   "cell_type": "code",
   "execution_count": 38,
   "metadata": {
    "collapsed": false
   },
   "outputs": [
    {
     "data": {
      "image/png": "[encoded data removed]",
      "text/plain": [
       "<matplotlib.figure.Figure at 0x1116a9cf8>"
      ]
     },
     "metadata": {},
     "output_type": "display_data"
    }
   ],
   "source": [
    "pp = hier_fit.plot()"
   ]
  }
 ],
 "metadata": {
  "kernelspec": {
   "display_name": "Python 3",
   "language": "python",
   "name": "python3"
  },
  "language_info": {
   "codemirror_mode": {
    "name": "ipython",
    "version": 3
   },
   "file_extension": ".py",
   "mimetype": "text/x-python",
   "name": "python",
   "nbconvert_exporter": "python",
   "pygments_lexer": "ipython3",
   "version": "3.5.0"
  }
 },
 "nbformat": 4,
 "nbformat_minor": 0
}
